{
 "cells": [
  {
   "cell_type": "markdown",
   "metadata": {},
   "source": [
    "Roughly reproducing the simulator on the Washington Post\n",
    "https://www.washingtonpost.com/graphics/2020/world/corona-simulator/"
   ]
  },
  {
   "cell_type": "code",
   "execution_count": 3,
   "metadata": {},
   "outputs": [],
   "source": [
    "\"\"\"\n",
    "Two repeating events\n",
    "\n",
    "1. Update infection statuses\n",
    "    1a. Transmission \n",
    "        1a1. Check whether agents are within transmission distance\n",
    "        1a2. Determine with infection transmits (v1 assume probability = 1, future model adjust probabilities). \n",
    "            Transmission rates/probabilities are relatedc to people's hygiene practices.\n",
    "            E.g. use of gloves, washing of hands reduces transmission rates.\n",
    "            \n",
    "        1a3. Update status\n",
    "        \n",
    "    1b. Recovery (vs death)\n",
    "        \n",
    "        Update status\n",
    "    \n",
    "    1c. Death\n",
    "        Probability based on factors: \n",
    "            age, \n",
    "            probability of being a smoker, \n",
    "            hospital load: hospital_capacity vs (current infected * probability of being hospitalized)\n",
    "                probability of being covered = (USA: x %, rest of OECD: 1)\n",
    "            +random factor\n",
    "        \n",
    "        \n",
    "2. Movement    \n",
    "        Update location of each agent\n",
    "    Factors:\n",
    "        social isolation: some % of agents do not move         \n",
    "\n",
    "\n",
    "\"\"\"\n",
    "None"
   ]
  },
  {
   "cell_type": "code",
   "execution_count": 4,
   "metadata": {},
   "outputs": [],
   "source": [
    "%matplotlib ipympl"
   ]
  },
  {
   "cell_type": "code",
   "execution_count": 5,
   "metadata": {},
   "outputs": [],
   "source": [
    "import pandas as pd\n",
    "import numpy as np\n",
    "from matplotlib import pyplot as pl\n",
    "import matplotlib as mpl\n",
    "from numpy import random as rd\n",
    "import time\n",
    "import pickle as pk"
   ]
  },
  {
   "cell_type": "code",
   "execution_count": 6,
   "metadata": {},
   "outputs": [],
   "source": [
    "n_agents = 1000\n",
    "transmission_threshold_distance = 0.01\n",
    "transmission_factor = 1\n",
    "recovery_days = 14\n",
    "probability_of_mortality = 0.02\n",
    "proportion_static = 0.5\n",
    "hospital_capacity_per_1000 = 10 # https://en.wikipedia.org/wiki/List_of_countries_by_hospital_beds\n",
    "icus_per_100k = 20 # https://en.wikipedia.org/wiki/List_of_countries_by_hospital_beds\n",
    "\n",
    "# Andrew Cuomo: \n",
    "# 12% need hospital beds\n",
    "# 3% need ICU/ventilators\n",
    "\n",
    "\n",
    "speed = 0.1\n",
    "initial_infections = 1\n",
    "\n",
    "status_colors = {0: 'blue', 1: 'brown', 2: 'pink', 3: 'black'}\n",
    "def status_color(status):\n",
    "    return status_colors[status]\n",
    "\n",
    "def initialize_agents(n_agents, initial_infections, proportion_static):\n",
    "    x_pos = [rd.uniform() for _ in range(n_agents)]\n",
    "    y_pos = [rd.uniform() for _ in range(n_agents)]\n",
    "\n",
    "    x_dir = [rd.uniform()*speed for _ in range(n_agents)]\n",
    "    y_dir = [rd.uniform()*speed for _ in range(n_agents)]\n",
    "    \n",
    "    days_infected = [0 for _ in range(n_agents)]\n",
    "\n",
    "    agent_order_infected = rd.permutation(n_agents)\n",
    "\n",
    "    agent_status = [0 for _ in range(n_agents)]\n",
    "    # status \n",
    "    # 0 - uninfected\n",
    "    # 1 - infected\n",
    "    # 2 - recovered\n",
    "    # 3 - mortality\n",
    "\n",
    "    # create patient(s) zero\n",
    "    for agent_index in agent_order_infected[0:initial_infections]:\n",
    "        agent_status[agent_index]  = 1\n",
    "        days_infected[agent_index]  = 1\n",
    "            \n",
    "\n",
    "    # set static\n",
    "    agent_order_static = rd.permutation(n_agents)\n",
    "    for agent_index in agent_order_static[0:int(proportion_static*n_agents)]: \n",
    "        # Set speed to zero for these patients that are \"self-isolating\"\n",
    "        # They may get visits from infected people, but won't actively spread to others who are isolated.\n",
    "        x_dir[agent_index] = 0\n",
    "        y_dir[agent_index] = 0\n",
    "        \n",
    "    agents = pd.DataFrame({'x pos': x_pos, \n",
    "                           'y pos': y_pos, \n",
    "                           'status': agent_status, \n",
    "                           'x dir': x_dir, \n",
    "                           'y dir': y_dir, \n",
    "                           'days infected': days_infected,\n",
    "                           'color': [status_color(status) for status in agent_status],\n",
    "                          })\n",
    "\n",
    "    return agents\n"
   ]
  },
  {
   "cell_type": "code",
   "execution_count": 7,
   "metadata": {},
   "outputs": [],
   "source": [
    "def agents_are_close(threshold, agent1_x_pos, agent1_y_pos, agent2_x_pos, agent2_y_pos, verbose=False):\n",
    "    \n",
    "    distance = np.sqrt( (agent1_x_pos-agent2_x_pos) ** 2 + (agent1_y_pos-agent2_y_pos) ** 2 )\n",
    "    \n",
    "    if verbose:\n",
    "        print(f\"Distance: {distance}. Threshold: {threshold}. Close? {distance <= threshold}\")\n",
    "    \n",
    "    return distance <= threshold\n",
    "\n",
    "\n",
    "# test:\n",
    "if not agents_are_close( 0.1, 0.8, 0.3, 0.81, 0.28 ):\n",
    "    raise(ValueError(\"Distance function not working\")) # Not really a value error. This should be implemented as a unit test."
   ]
  },
  {
   "cell_type": "code",
   "execution_count": 8,
   "metadata": {},
   "outputs": [],
   "source": [
    "def transmit_disease(agents_curr):\n",
    "    agents = agents_curr.copy()\n",
    "    \n",
    "    agents.loc[:,'update as infected'] = False\n",
    "\n",
    "    infected_agents = agents.loc[agents['status']==1,:]\n",
    "    print(f\"Number infected agents: {infected_agents.shape[0]}\")\n",
    "    \n",
    "    # update infected status\n",
    "    for agent1_index in range(n_agents):\n",
    "        # \n",
    "        agent1 = agents.iloc[agent1_index]\n",
    "\n",
    "        for agent2_index in range(infected_agents.shape[0]): #[:agent1_index]:\n",
    "            agent2 = infected_agents.iloc[agent2_index]\n",
    "            \n",
    "            agents_close = agents_are_close( transmission_threshold_distance, \n",
    "                                            agent1['x pos'], \n",
    "                                            agent1['y pos'], \n",
    "                                            agent2['x pos'], \n",
    "                                            agent2['y pos'],\n",
    "                                            verbose=False)            \n",
    "            \n",
    "            # future version, do a self merge for efficiency @TODO\n",
    "            if agents_close \\\n",
    "                and rd.uniform() <= transmission_factor \\\n",
    "                and agent1['status'] == 0 \\\n",
    "                and agent2['status'] == 1 \\\n",
    "                and agent2['days infected'] <= recovery_days: # future, agent2 infected days between min and max \n",
    "                \n",
    "                    # print(f'Transmitting to agent {agent1_index}')\n",
    "                    \n",
    "                    agents.loc[agent1_index,'update as infected'] = True\n",
    "                    #agents.loc[agent2_index,'update as infected'] = True\n",
    "\n",
    "                    # future, update infection days count\n",
    "                    # agents.loc[agent1_index,'days infected']\n",
    "                    \n",
    "    print(f\"Number of new cases: {agents['update as infected'].sum()}\")\n",
    "                    \n",
    "    # Assign infected status\n",
    "    agents.loc[agents['update as infected'],'status'] = 1\n",
    "    #agents.loc[agents['update as infected'],'color'] = [] # managed below\n",
    "    agents.loc[agents['status']==1,'days infected'] = agents.loc[agents['status']==1,'days infected']+1\n",
    "    \n",
    "    # recovery - \n",
    "    survival = agents['status'].apply(lambda status: rd.uniform()>=probability_of_mortality )\n",
    "    recovered = (agents['status']==1) & survival & (agents['days infected'] == 14)\n",
    "    agents.loc[recovered,'status'] = 2\n",
    "    \n",
    "    fatality = (agents['status'] == 1) & (~survival) & (agents['days infected'] == 14)\n",
    "    agents.loc[fatality,'status'] = 3 \n",
    "    agents.loc[fatality,'x dir'] = 0\n",
    "    agents.loc[fatality,'y dir'] = 0 # update marker to X\n",
    "    \n",
    "    #     \n",
    "    agents['color'] = agents['status'].apply(status_color)\n",
    "    \n",
    "    return agents"
   ]
  },
  {
   "cell_type": "code",
   "execution_count": 9,
   "metadata": {},
   "outputs": [],
   "source": [
    "# #agents.head()\n",
    "# agents\n",
    "\n",
    "# print(agents.loc[agents['status']==1,:])"
   ]
  },
  {
   "cell_type": "code",
   "execution_count": 10,
   "metadata": {},
   "outputs": [],
   "source": [
    "# agents"
   ]
  },
  {
   "cell_type": "code",
   "execution_count": 11,
   "metadata": {},
   "outputs": [],
   "source": [
    "#transmit_disease(agents)"
   ]
  },
  {
   "cell_type": "code",
   "execution_count": 12,
   "metadata": {},
   "outputs": [],
   "source": [
    "# agent_state = []\n",
    "# agent_state.append(agents)\n",
    "# agent_state.append(transmit_disease(agents))\n",
    "\n",
    "# agent_state[1].loc[agent_state[1]['status']==1,:]"
   ]
  },
  {
   "cell_type": "code",
   "execution_count": 13,
   "metadata": {},
   "outputs": [],
   "source": [
    "adjust_outofrange = lambda pos, bounds: pos if (pos <= bounds[1] and pos >= bounds[0]) else (pos-1 if pos>bounds[1] else pos+1)\n",
    "\n",
    "# def new_location(x_new, y_new, bounds):\n",
    "#     # future, x1, y1, x2, y2, x_velocity, y_velocity\n",
    "    \n",
    "#     return (adjust_outofrange(x_new, [0,1]), adjust_outofrange(y_new, [0,1])) # too much engineering? Setting up for future new_location which could bound agents of bounds and other agents.\n",
    " \n",
    "def move_agents(agents_orig):\n",
    "    \n",
    "    agents = agents_orig.copy()\n",
    "    \n",
    "    agents['x pos'] = agents['x pos'] + agents['x dir']\n",
    "    agents['y pos'] = agents['y pos'] + agents['y dir']\n",
    "    \n",
    "    # update if outside of range - rather than \"bouncing\" off other agents, we assume that the continue to move within the space starting from the other extremee.\n",
    "    agents['x pos'] = agents['x pos'].apply(lambda x: adjust_outofrange(x, [0,1]) )\n",
    "    agents['y pos'] = agents['y pos'].apply(lambda x: adjust_outofrange(x, [0,1]) )\n",
    "        \n",
    "    return agents"
   ]
  },
  {
   "cell_type": "code",
   "execution_count": 14,
   "metadata": {},
   "outputs": [],
   "source": [
    "# run simulation (100 iterations)\n",
    "def run_sim(n_periods = 100, n_agents=1000, initial_infections=1, proportion_static=0, initial_state=[] ):  \n",
    "\n",
    "    if initial_state==[]:\n",
    "        # def update\n",
    "        agents = initialize_agents(n_agents, initial_infections, proportion_static)        \n",
    "\n",
    "        #print(agents['status'].to_list())# eye-balling that there is one (or initial_infections) agent with status=1 and the rest zero\n",
    "                \n",
    "        agent_state = []\n",
    "        agent_state.append(agents)\n",
    "    else: \n",
    "        # provides option to give starting point (e.g. if half a sim ran, can restart by supplying the existing state list)\n",
    "        agent_state = initial_state\n",
    "\n",
    "    period_i = 0\n",
    "    while period_i<n_periods: #period_i in range(n_periods):    \n",
    "        print(f'period={period_i}')\n",
    "        # transmit\n",
    "        agent_state.append(transmit_disease(agent_state[-1]))\n",
    "\n",
    "        # move - reuse\n",
    "        agent_state[-1] = move_agents(agent_state[-1])         \n",
    "\n",
    "        period_i += 1\n",
    "                       \n",
    "    return agent_state\n",
    "\n",
    "\n"
   ]
  },
  {
   "cell_type": "code",
   "execution_count": 15,
   "metadata": {},
   "outputs": [],
   "source": [
    "has_already_run = True\n",
    "if not has_already_run:\n",
    "    # unmitigated = run_sim(n_periods = 100, n_agents=1000, initial_infections=1, proportion_static=0 )\n",
    "    ##unmitigated = run_sim(n_periods = 50, initial_state=unmitigated )\n",
    "    with open('data/unmitigated_simulation.pkl', 'wb' ) as file:\n",
    "        pk.dump(unmitigated, file)\n",
    "    # isolation_50pct = run_sim(n_periods = 100, n_agents=1000, initial_infections=1, proportion_static=0.5 )\n",
    "    with open('data/isolation_50pct_simulation.pkl', 'wb' ) as file:\n",
    "        pk.dump(isolation_50pct, file)    \n",
    "        \n",
    "else: \n",
    "    with open('data/unmitigated_simulation.pkl','rb') as file:    \n",
    "        unmitigated = pk.load(file)\n",
    "    with open('data/isolation_50pct_simulation.pkl','rb') as file:    \n",
    "        isolation_50pct = pk.load(file)\n",
    "        "
   ]
  },
  {
   "cell_type": "code",
   "execution_count": 16,
   "metadata": {},
   "outputs": [],
   "source": [
    "# unmitigated[-1]"
   ]
  },
  {
   "cell_type": "code",
   "execution_count": 17,
   "metadata": {},
   "outputs": [],
   "source": [
    "def agent_state_summary(agents):\n",
    "    status_counts = agents.groupby('status')['days infected'].count()\n",
    "    \n",
    "    return status_counts"
   ]
  },
  {
   "cell_type": "code",
   "execution_count": 18,
   "metadata": {},
   "outputs": [],
   "source": [
    "# move - reuse\n"
   ]
  },
  {
   "cell_type": "code",
   "execution_count": null,
   "metadata": {},
   "outputs": [],
   "source": []
  },
  {
   "cell_type": "code",
   "execution_count": 19,
   "metadata": {},
   "outputs": [],
   "source": [
    "def plot_statuses_over_time(agent_state,title):\n",
    "    status_over_time = pd.DataFrame(data=[agent_state_summary(agents) for agents in agent_state], index=range(len(agent_state)))\n",
    "\n",
    "    status_over_time.plot()\n",
    "    pl.title(title)\n",
    "    pl.xlabel('Days')\n",
    "    pl.legend(['Unaffected','sick','recovered','mortality'])\n",
    "\n",
    "    status_over_time.plot.area()\n",
    "    pl.title(title)\n",
    "    pl.xlabel('Days')\n",
    "    pl.legend(['Unaffected','sick','recovered','mortality'])\n",
    "    pl.ylim([0,n_agents])\n",
    "    \n",
    "    return status_over_time\n",
    "\n"
   ]
  },
  {
   "cell_type": "code",
   "execution_count": 20,
   "metadata": {},
   "outputs": [
    {
     "data": {
      "application/vnd.jupyter.widget-view+json": {
       "model_id": "8551b851399d44deaae5a9e30400bee3",
       "version_major": 2,
       "version_minor": 0
      },
      "text/plain": [
       "Canvas(toolbar=Toolbar(toolitems=[('Home', 'Reset original view', 'home', 'home'), ('Back', 'Back to previous …"
      ]
     },
     "metadata": {},
     "output_type": "display_data"
    },
    {
     "data": {
      "application/vnd.jupyter.widget-view+json": {
       "model_id": "cd4c1897c52e4bc494c521dded468eb2",
       "version_major": 2,
       "version_minor": 0
      },
      "text/plain": [
       "Canvas(toolbar=Toolbar(toolitems=[('Home', 'Reset original view', 'home', 'home'), ('Back', 'Back to previous …"
      ]
     },
     "metadata": {},
     "output_type": "display_data"
    }
   ],
   "source": [
    "unmitigated_50pct_summary = plot_statuses_over_time(unmitigated,'Unmitigated')"
   ]
  },
  {
   "cell_type": "code",
   "execution_count": 21,
   "metadata": {},
   "outputs": [
    {
     "data": {
      "application/vnd.jupyter.widget-view+json": {
       "model_id": "afe68ec60b79443ca9cd0bc6ab3e1a6a",
       "version_major": 2,
       "version_minor": 0
      },
      "text/plain": [
       "Canvas(toolbar=Toolbar(toolitems=[('Home', 'Reset original view', 'home', 'home'), ('Back', 'Back to previous …"
      ]
     },
     "metadata": {},
     "output_type": "display_data"
    },
    {
     "data": {
      "application/vnd.jupyter.widget-view+json": {
       "model_id": "00be828b2df441b1ae9aba4e49228202",
       "version_major": 2,
       "version_minor": 0
      },
      "text/plain": [
       "Canvas(toolbar=Toolbar(toolitems=[('Home', 'Reset original view', 'home', 'home'), ('Back', 'Back to previous …"
      ]
     },
     "metadata": {},
     "output_type": "display_data"
    }
   ],
   "source": [
    "isolation_50pct_summary = plot_statuses_over_time(isolation_50pct,'50% isolation')"
   ]
  },
  {
   "cell_type": "code",
   "execution_count": 22,
   "metadata": {},
   "outputs": [],
   "source": [
    "#agent_state[-1].loc[agent_state[-1]['status']>=1,:]\n",
    "#unmitigated"
   ]
  },
  {
   "cell_type": "code",
   "execution_count": 47,
   "metadata": {},
   "outputs": [
    {
     "name": "stderr",
     "output_type": "stream",
     "text": [
      "C:\\ProgramData\\Anaconda3\\lib\\site-packages\\pandas\\plotting\\_core.py:304: RuntimeWarning: More than 20 figures have been opened. Figures created through the pyplot interface (`matplotlib.pyplot.figure`) are retained until explicitly closed and may consume too much memory. (To control this warning, see the rcParam `figure.max_open_warning`).\n",
      "  fig = self.plt.figure(figsize=self.figsize)\n"
     ]
    },
    {
     "data": {
      "application/vnd.jupyter.widget-view+json": {
       "model_id": "04abb35c7bd0477bb8d10d36a109025b",
       "version_major": 2,
       "version_minor": 0
      },
      "text/plain": [
       "Canvas(toolbar=Toolbar(toolitems=[('Home', 'Reset original view', 'home', 'home'), ('Back', 'Back to previous …"
      ]
     },
     "metadata": {},
     "output_type": "display_data"
    },
    {
     "name": "stderr",
     "output_type": "stream",
     "text": [
      "MovieWriter ffmpeg unavailable; trying to use <class 'matplotlib.animation.PillowWriter'> instead.\n"
     ]
    }
   ],
   "source": [
    "import matplotlib.animation as animation\n",
    "from matplotlib.colors import ListedColormap\n",
    "\n",
    "color_list = ['blue','peru','pink','black']\n",
    "cmap = ListedColormap(color_list, N=4)\n",
    "    \n",
    "#     .from_list(\n",
    "#     'status colors',\n",
    "#     [\n",
    "#         [0, 0, 1], # blue\n",
    "#         [0.5, 0.5, 0], # 165,42,42 brown\n",
    "#         [0.5, 1, 0.5], # pink\n",
    "#         [0, 0, 0]\n",
    "#     ])\n",
    "\n",
    "def plot_agents(agents):\n",
    "        \n",
    "   # fig = pl.figure()\n",
    "    axes = agents.plot.scatter(\n",
    "        x='x pos', \n",
    "        y='y pos', \n",
    "        c=agents['status'].apply(int), #'status',\n",
    "        marker='o',\n",
    "        #cmap=cmap,\n",
    "        #colorbar=None,\n",
    "        figsize=(10,10)\n",
    "    ) # colormap\n",
    "        \n",
    "    pl.xticks([])    \n",
    "    _ = pl.yticks([])    \n",
    "    xlabel = pl.xlabel(\"period=0\")\n",
    "    pl.ylabel(\"\")\n",
    "    pl.xlim([0,1])\n",
    "    pl.ylim([0,1])\n",
    "    pl.title(\"Agents by location\")\n",
    "    #pl.legend([])\n",
    "    \n",
    "    scat = [child for child in axes.get_children() if type(child) is mpl.collections.PathCollection][0]\n",
    "\n",
    "    \n",
    "    return (axes.figure, axes, scat, xlabel)\n",
    "\n",
    "\n",
    "fig, axes, scat, xlabel = plot_agents(unmitigated[0])\n",
    "\n",
    "# pl.set_cmap(cmap)\n",
    "\n",
    "# https://stackoverflow.com/questions/9401658/how-to-animate-a-scatter-plot\n",
    "def update_agent_plot( period, agent_state ):\n",
    "    #\n",
    "    scat.set_offsets(agent_state[['x pos','y pos']].to_numpy())\n",
    "    scat.set_array( agent_state['status']/agent_state['status'].max() )\n",
    "    scat.set_cmap( ListedColormap(color_list[0:agent_state['status'].max()]) )\n",
    "    \n",
    "    xlabel.set_text(f'period={period}')\n",
    "    \n",
    "    return scat,\n",
    "    \n",
    "agents = unmitigated\n",
    "\n",
    "# for i in range(10):\n",
    "#     update_agent_plot( 1, unmitigated[1] )\n",
    "\n",
    "    \n",
    "# enumerate(agents)\n",
    "ani = animation.FuncAnimation(\n",
    "                              fig, \n",
    "                              lambda period_state: update_agent_plot(period_state[0],period_state[1]), \n",
    "                              frames=enumerate(agents), \n",
    "                              interval=300\n",
    ")\n",
    "\n",
    "#\n",
    "# ani.save('simulation.gif', writer=animation.PillowWriter())\n",
    "#\n",
    "#         self.ani = animation.FuncAnimation(self.fig, self.update, interval=5, \n",
    "#                                           init_func=self.setup_plot, blit=True)\n",
    "\n",
    "# HTML(ani.to_jshtml())\n",
    "\n",
    "#pl.show()\n",
    "\n",
    "ani.save('unmitigated_simulation.gif')\n"
   ]
  },
  {
   "cell_type": "markdown",
   "metadata": {},
   "source": [
    "![simulation](unmitigated_simulation.gif)"
   ]
  },
  {
   "cell_type": "code",
   "execution_count": 24,
   "metadata": {},
   "outputs": [],
   "source": [
    "# def update_plot(i, data, scat):\n",
    "#     print(i)\n",
    "#     scat.set_array(data[i])\n",
    "#     return scat,\n",
    "\n",
    "# def main():\n",
    "#     numframes = 100\n",
    "#     numpoints = 10\n",
    "#     color_data = np.random.random((numframes, numpoints))\n",
    "#     x, y, c = np.random.random((3, numpoints))\n",
    "\n",
    "#     fig = pl.figure()\n",
    "#     scat = pl.scatter(x, y, c=c, s=100)\n",
    "\n",
    "#     ani = animation.FuncAnimation(fig, update_plot, frames=40,\n",
    "#                                   fargs=(color_data, scat))\n",
    "#     pl.show()\n",
    "\n",
    "\n",
    "# main()"
   ]
  },
  {
   "cell_type": "code",
   "execution_count": 25,
   "metadata": {},
   "outputs": [],
   "source": [
    "# for i in range(len(agent_state)):\n",
    "#     print(i)"
   ]
  },
  {
   "cell_type": "code",
   "execution_count": 26,
   "metadata": {},
   "outputs": [],
   "source": [
    "#next(enumerate(agents[:2]))"
   ]
  },
  {
   "cell_type": "code",
   "execution_count": 27,
   "metadata": {},
   "outputs": [],
   "source": [
    "# for i in range(len(agent_state)):\n",
    "#     plot_agents(agent_state[i])"
   ]
  },
  {
   "cell_type": "code",
   "execution_count": 28,
   "metadata": {},
   "outputs": [],
   "source": [
    "#type(axes_children[0])\n",
    "# type(axes_children[0]) is mpl.collections.PathCollection"
   ]
  },
  {
   "cell_type": "code",
   "execution_count": 29,
   "metadata": {},
   "outputs": [],
   "source": [
    "# plot_agents(agent_state)"
   ]
  }
 ],
 "metadata": {
  "kernelspec": {
   "display_name": "Python 3",
   "language": "python",
   "name": "python3"
  },
  "language_info": {
   "codemirror_mode": {
    "name": "ipython",
    "version": 3
   },
   "file_extension": ".py",
   "mimetype": "text/x-python",
   "name": "python",
   "nbconvert_exporter": "python",
   "pygments_lexer": "ipython3",
   "version": "3.7.3"
  }
 },
 "nbformat": 4,
 "nbformat_minor": 4
}
