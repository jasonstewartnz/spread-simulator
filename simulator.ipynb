{
 "cells": [
  {
   "cell_type": "markdown",
   "metadata": {},
   "source": [
    "Roughly reproducing the simulator on the Washington Post\n",
    "https://www.washingtonpost.com/graphics/2020/world/corona-simulator/"
   ]
  },
  {
   "cell_type": "code",
   "execution_count": 116,
   "metadata": {},
   "outputs": [],
   "source": [
    "\"\"\"\n",
    "Two repeating events\n",
    "\n",
    "1. Update infection statuses\n",
    "    1a. Transmission \n",
    "        1a1. Check whether agents are within transmission distance\n",
    "        1a2. Determine with infection transmits (v1 assume probability = 1, future model adjust probabilities). \n",
    "            Transmission rates/probabilities are relatedc to people's hygiene practices.\n",
    "            E.g. use of gloves, washing of hands reduces transmission rates.\n",
    "            \n",
    "        1a3. Update status\n",
    "        \n",
    "    1b. Recovery (vs death)\n",
    "        \n",
    "        Update status\n",
    "    \n",
    "    1c. Death\n",
    "        Probability based on factors: \n",
    "            age, \n",
    "            probability of being a smoker, \n",
    "            hospital load: hospital_capacity vs (current infected * probability of being hospitalized)\n",
    "                probability of being covered = (USA: x %, rest of OECD: 1)\n",
    "            +random factor\n",
    "        \n",
    "        \n",
    "2. Movement    \n",
    "        Update location of each agent\n",
    "    Factors:\n",
    "        social isolation: some % of agents do not move         \n",
    "\n",
    "\n",
    "\"\"\"\n",
    "None"
   ]
  },
  {
   "cell_type": "code",
   "execution_count": 88,
   "metadata": {},
   "outputs": [],
   "source": [
    "%matplotlib inline"
   ]
  },
  {
   "cell_type": "code",
   "execution_count": 4,
   "metadata": {},
   "outputs": [],
   "source": [
    "import pandas as pd\n",
    "import numpy as np\n",
    "from matplotlib import pyplot as pl\n",
    "import matplotlib as mpl\n",
    "from numpy import random as rd\n",
    "import time\n",
    "import pickle as pk"
   ]
  },
  {
   "cell_type": "code",
   "execution_count": 180,
   "metadata": {},
   "outputs": [
    {
     "name": "stdout",
     "output_type": "stream",
     "text": [
      "[0, 0, 0, 0, 0, 0, 0, 0, 0, 0, 0, 0, 0, 0, 0, 0, 0, 0, 0, 0, 0, 0, 0, 0, 0, 0, 0, 0, 0, 0, 0, 0, 0, 0, 0, 0, 0, 0, 0, 0, 0, 0, 0, 0, 0, 0, 0, 0, 0, 0, 0, 0, 0, 0, 0, 0, 0, 0, 0, 0, 0, 0, 0, 0, 0, 0, 0, 0, 0, 0, 0, 0, 0, 0, 0, 0, 0, 0, 0, 0, 0, 0, 0, 0, 0, 0, 0, 0, 0, 0, 0, 0, 0, 0, 0, 0, 0, 0, 0, 0, 0, 0, 0, 0, 0, 0, 0, 0, 0, 0, 0, 0, 0, 0, 0, 0, 0, 0, 0, 0, 0, 0, 0, 0, 0, 0, 0, 0, 0, 0, 0, 0, 0, 0, 0, 0, 0, 0, 0, 0, 0, 0, 0, 0, 0, 0, 0, 0, 0, 0, 0, 0, 0, 0, 0, 0, 0, 0, 0, 0, 0, 0, 0, 0, 0, 0, 0, 0, 0, 0, 0, 0, 0, 0, 0, 0, 0, 0, 0, 0, 0, 0, 0, 0, 0, 0, 0, 0, 0, 0, 0, 0, 0, 0, 0, 0, 0, 0, 0, 0, 0, 0, 0, 0, 0, 0, 0, 0, 0, 0, 0, 0, 0, 0, 0, 0, 0, 0, 0, 0, 0, 0, 0, 0, 0, 0, 0, 0, 0, 0, 0, 0, 0, 0, 0, 0, 0, 0, 0, 0, 0, 0, 0, 0, 0, 0, 0, 0, 0, 0, 0, 0, 0, 0, 0, 0, 0, 0, 0, 0, 0, 0, 0, 0, 0, 0, 0, 0, 0, 0, 0, 0, 0, 0, 0, 0, 0, 0, 0, 0, 0, 0, 0, 0, 0, 0, 0, 0, 0, 0, 0, 0, 0, 0, 0, 0, 0, 0, 0, 0, 0, 0, 0, 0, 0, 0, 0, 0, 0, 0, 0, 0, 0, 0, 0, 0, 0, 0, 0, 0, 1, 0, 0, 0, 0, 0, 0, 0, 0, 0, 0, 0, 0, 0, 0, 0, 0, 0, 0, 0, 0, 0, 0, 0, 0, 0, 0, 0, 0, 0, 0, 0, 0, 0, 0, 0, 0, 0, 0, 0, 0, 0, 0, 0, 0, 0, 0, 0, 0, 0, 0, 0, 0, 0, 0, 0, 0, 0, 0, 0, 0, 0, 0, 0, 0, 0, 0, 0, 0, 0, 0, 0, 0, 0, 0, 0, 0, 0, 0, 0, 0, 0, 0, 0, 0, 0, 0, 0, 0, 0, 0, 0, 0, 0, 0, 0, 0, 0, 0, 0, 0, 0, 0, 0, 0, 0, 0, 0, 0, 0, 0, 0, 0, 0, 0, 0, 0, 0, 0, 0, 0, 0, 0, 0, 0, 0, 0, 0, 0, 0, 0, 0, 0, 0, 0, 0, 0, 0, 0, 0, 0, 0, 0, 0, 0, 0, 0, 0, 0, 0, 0, 0, 0, 0, 0, 0, 0, 0, 0, 0, 0, 0, 0, 0, 0, 0, 0, 0, 0, 0, 0, 0, 0, 0, 0, 0, 0, 0, 0, 0, 0, 0, 0, 0, 0, 0, 0, 0, 0, 0, 0, 0, 0, 0, 0, 0, 0, 0, 0, 0, 0, 0, 0, 0, 0, 0, 0, 0, 0, 0, 0, 0, 0, 0, 0, 0, 0, 0, 0, 0, 0, 0, 0, 0, 0, 0, 0, 0, 0, 0, 0, 0, 0, 0, 0, 0, 0, 0, 0, 0, 0, 0, 0, 0, 0, 0, 0, 0, 0, 0, 0, 0, 0, 0, 0, 0, 0, 0, 0, 0, 0, 0, 0, 0, 0, 0, 0, 0, 0, 0, 0, 0, 0, 0, 0, 0, 0, 0, 0, 0, 0, 0, 0, 0, 0, 0, 0, 0, 0, 0, 0, 0, 0, 0, 0, 0, 0, 0, 0, 0, 0, 0, 0, 0, 0, 0, 0, 0, 0, 0, 0, 0, 0, 0, 0, 0, 0, 0, 0, 0, 0, 0, 0, 0, 0, 0, 0, 0, 0, 0, 0, 0, 0, 0, 0, 0, 0, 0, 0, 0, 0, 0, 0, 0, 0, 0, 0, 0, 0, 0, 0, 0, 0, 0, 0, 0, 0, 0, 0, 0, 0, 0, 0, 0, 0, 0, 0, 0, 0, 0, 0, 0, 0, 0, 0, 0, 0, 0, 0, 0, 0, 0, 0, 0, 0, 0, 0, 0, 0, 0, 0, 0, 0, 0, 0, 0, 0, 0, 0, 0, 0, 0, 0, 0, 0, 0, 0, 0, 0, 0, 0, 0, 0, 0, 0, 0, 0, 0, 0, 0, 0, 0, 0, 0, 0, 0, 0, 0, 0, 0, 0, 0, 0, 0, 0, 0, 0, 0, 0, 0, 0, 0, 0, 0, 0, 0, 0, 0, 0, 0, 0, 0, 0, 0, 0, 0, 0, 0, 0, 0, 0, 0, 0, 0, 0, 0, 0, 0, 0, 0, 0, 0, 0, 0, 0, 0, 0, 0, 0, 0, 0, 0, 0, 0, 0, 0, 0, 0, 0, 0, 0, 0, 0, 0, 0, 0, 0, 0, 0, 0, 0, 0, 0, 0, 0, 0, 0, 0, 0, 0, 0, 0, 0, 0, 0, 0, 0, 0, 0, 0, 0, 0, 0, 0, 0, 0, 0, 0, 0, 0, 0, 0, 0, 0, 0, 0, 0, 0, 0, 0, 0, 0, 0, 0, 0, 0, 0, 0, 0, 0, 0, 0, 0, 0, 0, 0, 0, 0, 0, 0, 0, 0, 0, 0, 0, 0, 0, 0, 0, 0, 0, 0, 0, 0, 0, 0, 0, 0, 0, 0, 0, 0, 0, 0, 0, 0, 0, 0, 0, 0, 0, 0, 0, 0, 0, 0, 0, 0, 0, 0, 0, 0, 0, 0, 0, 0, 0, 0, 0, 0, 0, 0, 0, 0, 0, 0, 0, 0, 0, 0, 0, 0, 0, 0, 0, 0, 0, 0, 0, 0, 0, 0, 0, 0, 0, 0, 0, 0, 0, 0, 0, 0, 0, 0, 0, 0, 0, 0, 0, 0, 0, 0, 0, 0, 0, 0, 0, 0, 0, 0, 0, 0, 0, 0, 0, 0, 0, 0, 0, 0, 0, 0, 0, 0, 0, 0, 0, 0, 0, 0]\n",
      "\n"
     ]
    }
   ],
   "source": [
    "n_agents = 1000\n",
    "transmission_threshold_distance = 0.01\n",
    "transmission_factor = 1\n",
    "recovery_days = 14\n",
    "probability_of_mortality = 0.02\n",
    "proportion_static = 0.5\n",
    "  \n",
    "speed = 0.1\n",
    "initial_infections = 1\n",
    "\n",
    "status_colors = {0: 'blue', 1: 'brown', 2: 'pink', 3: 'black'}\n",
    "def status_color(status):\n",
    "    return status_colors[status]\n",
    "\n",
    "def initialize_agents(n_agents, initial_infections, proportion_static):\n",
    "    x_pos = [rd.uniform() for _ in range(n_agents)]\n",
    "    y_pos = [rd.uniform() for _ in range(n_agents)]\n",
    "\n",
    "    x_dir = [rd.uniform()*speed for _ in range(n_agents)]\n",
    "    y_dir = [rd.uniform()*speed for _ in range(n_agents)]\n",
    "    \n",
    "    days_infected = [0 for _ in range(n_agents)]\n",
    "\n",
    "    agent_order_infected = rd.permutation(n_agents)\n",
    "\n",
    "    agent_status = [0 for _ in range(n_agents)]\n",
    "    # status \n",
    "    # 0 - uninfected\n",
    "    # 1 - infected\n",
    "    # 2 - recovered\n",
    "    # 3 - mortality\n",
    "\n",
    "    # create patient(s) zero\n",
    "    for agent_index in agent_order_infected[0:initial_infections]:\n",
    "        agent_status[agent_index]  = 1\n",
    "        days_infected[agent_index]  = 1\n",
    "            \n",
    "\n",
    "    # set static\n",
    "    agent_order_static = rd.permutation(n_agents)\n",
    "    for agent_index in agent_order_static[0:int(proportion_static*n_agents)]: \n",
    "        # Set speed to zero for these patients that are \"self-isolating\"\n",
    "        # They may get visits from infected people, but won't actively spread to others who are isolated.\n",
    "        x_dir[agent_index] = 0\n",
    "        y_dir[agent_index] = 0\n",
    "        \n",
    "    agents = pd.DataFrame({'x pos': x_pos, \n",
    "                           'y pos': y_pos, \n",
    "                           'status': agent_status, \n",
    "                           'x dir': x_dir, \n",
    "                           'y dir': y_dir, \n",
    "                           'days infected': days_infected,\n",
    "                           'color': [status_color(status) for status in agent_status],\n",
    "                          })\n",
    "\n",
    "    return agents\n"
   ]
  },
  {
   "cell_type": "code",
   "execution_count": 117,
   "metadata": {},
   "outputs": [],
   "source": [
    "def agents_are_close(threshold, agent1_x_pos, agent1_y_pos, agent2_x_pos, agent2_y_pos, verbose=False):\n",
    "    \n",
    "    distance = np.sqrt( (agent1_x_pos-agent2_x_pos) ** 2 + (agent1_y_pos-agent2_y_pos) ** 2 )\n",
    "    \n",
    "    if verbose:\n",
    "        print(f\"Distance: {distance}. Threshold: {threshold}. Close? {distance <= threshold}\")\n",
    "    \n",
    "    return distance <= threshold\n",
    "\n",
    "\n",
    "# test:\n",
    "if not agents_are_close( 0.1, 0.8, 0.3, 0.81, 0.28 ):\n",
    "    raise(ValueError(\"Distance function not working\")) # Not really a value error. This should be implemented as a unit test."
   ]
  },
  {
   "cell_type": "code",
   "execution_count": 181,
   "metadata": {},
   "outputs": [],
   "source": [
    "def transmit_disease(agents_curr):\n",
    "    agents = agents_curr.copy()\n",
    "    \n",
    "    agents.loc[:,'update as infected'] = False\n",
    "\n",
    "    infected_agents = agents.loc[agents['status']==1,:]\n",
    "    print(f\"Number infected agents: {infected_agents.shape[0]}\")\n",
    "    \n",
    "    # update infected status\n",
    "    for agent1_index in range(n_agents):\n",
    "        # \n",
    "        agent1 = agents.iloc[agent1_index]\n",
    "\n",
    "        for agent2_index in range(infected_agents.shape[0]): #[:agent1_index]:\n",
    "            agent2 = infected_agents.iloc[agent2_index]\n",
    "            \n",
    "            agents_close = agents_are_close( transmission_threshold_distance, \n",
    "                                            agent1['x pos'], \n",
    "                                            agent1['y pos'], \n",
    "                                            agent2['x pos'], \n",
    "                                            agent2['y pos'],\n",
    "                                            verbose=False)            \n",
    "            \n",
    "            # future version, do a self merge for efficiency @TODO\n",
    "            if agents_close \\\n",
    "                and rd.uniform() <= transmission_factor \\\n",
    "                and agent1['status'] == 0 \\\n",
    "                and agent2['status'] == 1 \\\n",
    "                and agent2['days infected'] <= recovery_days: # future, agent2 infected days between min and max \n",
    "                \n",
    "                    # print(f'Transmitting to agent {agent1_index}')\n",
    "                    \n",
    "                    agents.loc[agent1_index,'update as infected'] = True\n",
    "                    #agents.loc[agent2_index,'update as infected'] = True\n",
    "\n",
    "                    # future, update infection days count\n",
    "                    # agents.loc[agent1_index,'days infected']\n",
    "                    \n",
    "    print(f\"Number of new cases: {agents['update as infected'].sum()}\")\n",
    "                    \n",
    "    # Assign infected status\n",
    "    agents.loc[agents['update as infected'],'status'] = 1\n",
    "    #agents.loc[agents['update as infected'],'color'] = [] # managed below\n",
    "    agents.loc[agents['status']==1,'days infected'] = agents.loc[agents['status']==1,'days infected']+1\n",
    "    \n",
    "    # recovery - \n",
    "    survival = agents['status'].apply(lambda status: rd.uniform()>=probability_of_mortality )\n",
    "    recovered = (agents['status']==1) & survival & (agents['days infected'] == 14)\n",
    "    agents.loc[recovered,'status'] = 2\n",
    "    \n",
    "    fatality = (agents['status'] == 1) & (~survival) & (agents['days infected'] == 14)\n",
    "    agents.loc[fatality,'status'] = 3 \n",
    "    agents.loc[fatality,'x dir'] = 0\n",
    "    agents.loc[fatality,'y dir'] = 0 # update marker to X\n",
    "    \n",
    "    #     \n",
    "    agents['color'] = agents['status'].apply(status_color)\n",
    "    \n",
    "    return agents"
   ]
  },
  {
   "cell_type": "code",
   "execution_count": 119,
   "metadata": {},
   "outputs": [
    {
     "name": "stdout",
     "output_type": "stream",
     "text": [
      "        x pos    y pos  status     x dir     y dir  days infected  color\n",
      "339  0.394648  0.60498       1  0.087211  0.094517              1  brown\n"
     ]
    }
   ],
   "source": [
    "#agents.head()\n",
    "agents\n",
    "\n",
    "print(agents.loc[agents['status']==1,:])"
   ]
  },
  {
   "cell_type": "code",
   "execution_count": 120,
   "metadata": {},
   "outputs": [],
   "source": [
    "# agents"
   ]
  },
  {
   "cell_type": "code",
   "execution_count": 121,
   "metadata": {},
   "outputs": [],
   "source": [
    "#transmit_disease(agents)"
   ]
  },
  {
   "cell_type": "code",
   "execution_count": 122,
   "metadata": {},
   "outputs": [
    {
     "name": "stdout",
     "output_type": "stream",
     "text": [
      "Number infected agents: 1\n",
      "Number of new cases: 0\n"
     ]
    },
    {
     "data": {
      "text/html": [
       "<div>\n",
       "<style scoped>\n",
       "    .dataframe tbody tr th:only-of-type {\n",
       "        vertical-align: middle;\n",
       "    }\n",
       "\n",
       "    .dataframe tbody tr th {\n",
       "        vertical-align: top;\n",
       "    }\n",
       "\n",
       "    .dataframe thead th {\n",
       "        text-align: right;\n",
       "    }\n",
       "</style>\n",
       "<table border=\"1\" class=\"dataframe\">\n",
       "  <thead>\n",
       "    <tr style=\"text-align: right;\">\n",
       "      <th></th>\n",
       "      <th>x pos</th>\n",
       "      <th>y pos</th>\n",
       "      <th>status</th>\n",
       "      <th>x dir</th>\n",
       "      <th>y dir</th>\n",
       "      <th>days infected</th>\n",
       "      <th>color</th>\n",
       "      <th>update as infected</th>\n",
       "    </tr>\n",
       "  </thead>\n",
       "  <tbody>\n",
       "    <tr>\n",
       "      <th>339</th>\n",
       "      <td>0.394648</td>\n",
       "      <td>0.60498</td>\n",
       "      <td>1</td>\n",
       "      <td>0.087211</td>\n",
       "      <td>0.094517</td>\n",
       "      <td>2</td>\n",
       "      <td>brown</td>\n",
       "      <td>False</td>\n",
       "    </tr>\n",
       "  </tbody>\n",
       "</table>\n",
       "</div>"
      ],
      "text/plain": [
       "        x pos    y pos  status     x dir     y dir  days infected  color  \\\n",
       "339  0.394648  0.60498       1  0.087211  0.094517              2  brown   \n",
       "\n",
       "     update as infected  \n",
       "339               False  "
      ]
     },
     "execution_count": 122,
     "metadata": {},
     "output_type": "execute_result"
    }
   ],
   "source": [
    "# agent_state = []\n",
    "# agent_state.append(agents)\n",
    "# agent_state.append(transmit_disease(agents))\n",
    "\n",
    "# agent_state[1].loc[agent_state[1]['status']==1,:]"
   ]
  },
  {
   "cell_type": "code",
   "execution_count": 123,
   "metadata": {},
   "outputs": [],
   "source": [
    "adjust_outofrange = lambda pos, bounds: pos if (pos <= bounds[1] and pos >= bounds[0]) else (pos-1 if pos>bounds[1] else pos+1)\n",
    "\n",
    "# def new_location(x_new, y_new, bounds):\n",
    "#     # future, x1, y1, x2, y2, x_velocity, y_velocity\n",
    "    \n",
    "#     return (adjust_outofrange(x_new, [0,1]), adjust_outofrange(y_new, [0,1])) # too much engineering? Setting up for future new_location which could bound agents of bounds and other agents.\n",
    " \n",
    "def move_agents(agents_orig):\n",
    "    \n",
    "    agents = agents_orig.copy()\n",
    "    \n",
    "    agents['x pos'] = agents['x pos'] + agents['x dir']\n",
    "    agents['y pos'] = agents['y pos'] + agents['y dir']\n",
    "    \n",
    "    # update if outside of range - rather than \"bouncing\" off other agents, we assume that the continue to move within the space starting from the other extremee.\n",
    "    agents['x pos'] = agents['x pos'].apply(lambda x: adjust_outofrange(x, [0,1]) )\n",
    "    agents['y pos'] = agents['y pos'].apply(lambda x: adjust_outofrange(x, [0,1]) )\n",
    "        \n",
    "    return agents"
   ]
  },
  {
   "cell_type": "code",
   "execution_count": null,
   "metadata": {},
   "outputs": [],
   "source": [
    "# run simulation (100 iterations)\n",
    "def run_sim(n_periods = 100, n_agents=1000, initial_infections=1, proportion_static=0, initial_state=[] ):\n",
    "\n",
    "\n",
    "    print(agents['status'].to_list())# eye-balling that there is one (or initial_infections) agent with status=1 and the rest zero\n",
    "    print()    \n",
    "\n",
    "    if initial_state==[]:\n",
    "        # def update\n",
    "        agents = initialize_agents(n_agents, initial_infections, proportion_static)        \n",
    "        agent_state = []\n",
    "        agent_state.append(agents)\n",
    "    else: \n",
    "        # provides option to give starting point (e.g. if half a sim ran, can restart by supplying the existing state list)\n",
    "        agent_state = initial_state\n",
    "\n",
    "    period_i = 0\n",
    "    while period_i<n_periods: #period_i in range(n_periods):    \n",
    "        print(f'period={period_i}')\n",
    "        # transmit\n",
    "        agent_state.append(transmit_disease(agent_state[-1]))\n",
    "\n",
    "        # move - reuse\n",
    "        agent_state[-1] = move_agents(agent_state[-1])         \n",
    "\n",
    "        period_i += 1\n",
    "                       \n",
    "    return agent_state\n",
    "\n",
    "\n",
    "unmitigated = run_sim(n_periods = 100, n_agents=1000, initial_infections=1, proportion_static=0 )\n",
    "isolation_50pct = run_sim(n_periods = 100, n_agents=1000, initial_infections=1, proportion_static=0.5 )\n",
    "\n"
   ]
  },
  {
   "cell_type": "code",
   "execution_count": 183,
   "metadata": {},
   "outputs": [],
   "source": [
    "isolation_50pct = agent_state"
   ]
  },
  {
   "cell_type": "code",
   "execution_count": 188,
   "metadata": {},
   "outputs": [
    {
     "ename": "NameError",
     "evalue": "name 'unmitigated' is not defined",
     "output_type": "error",
     "traceback": [
      "\u001b[1;31m---------------------------------------------------------------------------\u001b[0m",
      "\u001b[1;31mNameError\u001b[0m                                 Traceback (most recent call last)",
      "\u001b[1;32m<ipython-input-188-f47a2a305d4c>\u001b[0m in \u001b[0;36m<module>\u001b[1;34m\u001b[0m\n\u001b[0;32m      1\u001b[0m \u001b[1;32mwith\u001b[0m \u001b[0mopen\u001b[0m\u001b[1;33m(\u001b[0m\u001b[1;34m'data/unmitigated_simulation.pkl'\u001b[0m\u001b[1;33m,\u001b[0m \u001b[1;34m'wb'\u001b[0m \u001b[1;33m)\u001b[0m \u001b[1;32mas\u001b[0m \u001b[0mfile\u001b[0m\u001b[1;33m:\u001b[0m\u001b[1;33m\u001b[0m\u001b[1;33m\u001b[0m\u001b[0m\n\u001b[1;32m----> 2\u001b[1;33m     \u001b[0mpk\u001b[0m\u001b[1;33m.\u001b[0m\u001b[0mdump\u001b[0m\u001b[1;33m(\u001b[0m\u001b[0munmitigated\u001b[0m\u001b[1;33m,\u001b[0m \u001b[0mfile\u001b[0m\u001b[1;33m)\u001b[0m\u001b[1;33m\u001b[0m\u001b[1;33m\u001b[0m\u001b[0m\n\u001b[0m\u001b[0;32m      3\u001b[0m \u001b[1;32mwith\u001b[0m \u001b[0mopen\u001b[0m\u001b[1;33m(\u001b[0m\u001b[1;34m'data/isolation_50pct_simulation.pkl'\u001b[0m\u001b[1;33m,\u001b[0m \u001b[1;34m'wb'\u001b[0m \u001b[1;33m)\u001b[0m \u001b[1;32mas\u001b[0m \u001b[0mfile\u001b[0m\u001b[1;33m:\u001b[0m\u001b[1;33m\u001b[0m\u001b[1;33m\u001b[0m\u001b[0m\n\u001b[0;32m      4\u001b[0m     \u001b[0mpk\u001b[0m\u001b[1;33m.\u001b[0m\u001b[0mdump\u001b[0m\u001b[1;33m(\u001b[0m\u001b[0misolation_50pct\u001b[0m\u001b[1;33m,\u001b[0m \u001b[0mfile\u001b[0m\u001b[1;33m)\u001b[0m\u001b[1;33m\u001b[0m\u001b[1;33m\u001b[0m\u001b[0m\n",
      "\u001b[1;31mNameError\u001b[0m: name 'unmitigated' is not defined"
     ]
    }
   ],
   "source": [
    "with open('data/unmitigated_simulation.pkl', 'wb' ) as file:\n",
    "    pk.dump(unmitigated, file)\n",
    "with open('data/isolation_50pct_simulation.pkl', 'wb' ) as file:\n",
    "    pk.dump(isolation_50pct, file)    "
   ]
  },
  {
   "cell_type": "code",
   "execution_count": 163,
   "metadata": {},
   "outputs": [],
   "source": [
    "def agent_state_summary(agents):\n",
    "    status_counts = agents.groupby('status')['days infected'].count()\n",
    "    \n",
    "    return status_counts"
   ]
  },
  {
   "cell_type": "code",
   "execution_count": null,
   "metadata": {},
   "outputs": [],
   "source": [
    "# move - reuse\n"
   ]
  },
  {
   "cell_type": "code",
   "execution_count": 196,
   "metadata": {},
   "outputs": [
    {
     "ename": "TypeError",
     "evalue": "a bytes-like object is required, not 'str'",
     "output_type": "error",
     "traceback": [
      "\u001b[1;31m---------------------------------------------------------------------------\u001b[0m",
      "\u001b[1;31mTypeError\u001b[0m                                 Traceback (most recent call last)",
      "\u001b[1;32m<ipython-input-196-2a6733232828>\u001b[0m in \u001b[0;36m<module>\u001b[1;34m\u001b[0m\n\u001b[0;32m      1\u001b[0m \u001b[1;32mwith\u001b[0m \u001b[0mopen\u001b[0m\u001b[1;33m(\u001b[0m\u001b[1;34m'data/unmitigated_simulation.pkl'\u001b[0m\u001b[1;33m,\u001b[0m\u001b[1;34m'r'\u001b[0m\u001b[1;33m)\u001b[0m \u001b[1;32mas\u001b[0m \u001b[0mfile\u001b[0m\u001b[1;33m:\u001b[0m\u001b[1;33m\u001b[0m\u001b[1;33m\u001b[0m\u001b[0m\n\u001b[1;32m----> 2\u001b[1;33m     \u001b[0munmitigated\u001b[0m \u001b[1;33m=\u001b[0m \u001b[0mpk\u001b[0m\u001b[1;33m.\u001b[0m\u001b[0mload\u001b[0m\u001b[1;33m(\u001b[0m\u001b[0mfile\u001b[0m\u001b[1;33m)\u001b[0m\u001b[1;33m\u001b[0m\u001b[1;33m\u001b[0m\u001b[0m\n\u001b[0m",
      "\u001b[1;31mTypeError\u001b[0m: a bytes-like object is required, not 'str'"
     ]
    }
   ],
   "source": [
    "with open('data/unmitigated_simulation.pkl','r') as file:    \n",
    "    unmitigated = pk.load(file)"
   ]
  },
  {
   "cell_type": "code",
   "execution_count": 185,
   "metadata": {},
   "outputs": [],
   "source": [
    "def plot_statuses_over_time(agent_state,title):\n",
    "    status_over_time = pd.DataFrame(data=[agent_state_summary(agents) for agents in agent_state], index=range(len(agent_state)))\n",
    "\n",
    "    status_over_time.plot()\n",
    "    pl.title(title)\n",
    "    pl.xlabel('Days')\n",
    "    pl.legend(['Unaffected','sick','recovered','mortality'])\n",
    "\n",
    "    status_over_time.plot.area()\n",
    "    pl.title(title)\n",
    "    pl.xlabel('Days')\n",
    "    pl.legend(['Unaffected','sick','recovered','mortality'])\n",
    "    pl.ylim([0,n_agents])\n",
    "    \n",
    "    return status_over_time\n",
    "\n"
   ]
  },
  {
   "cell_type": "code",
   "execution_count": 187,
   "metadata": {},
   "outputs": [
    {
     "data": {
      "image/png": "[encoded data removed]",
      "text/plain": [
       "<Figure size 432x288 with 1 Axes>"
      ]
     },
     "metadata": {
      "needs_background": "light"
     },
     "output_type": "display_data"
    },
    {
     "data": {
      "image/png": "[encoded data removed]",
      "text/plain": [
       "<Figure size 432x288 with 1 Axes>"
      ]
     },
     "metadata": {
      "needs_background": "light"
     },
     "output_type": "display_data"
    }
   ],
   "source": [
    "isolation_50pct_summary = plot_statuses_over_time(isolation_50pct,'50% isolation')"
   ]
  },
  {
   "cell_type": "code",
   "execution_count": 174,
   "metadata": {},
   "outputs": [],
   "source": [
    "#agent_state[-1].loc[agent_state[-1]['status']>=1,:]"
   ]
  },
  {
   "cell_type": "code",
   "execution_count": 151,
   "metadata": {},
   "outputs": [
    {
     "name": "stdout",
     "output_type": "stream",
     "text": [
      "period=0\n",
      "period=0\n",
      "period=1\n",
      "period=2\n",
      "period=3\n",
      "period=4\n",
      "period=5\n",
      "period=6\n",
      "period=7\n",
      "period=8\n",
      "period=9\n",
      "period=10\n",
      "period=11\n",
      "period=12\n",
      "period=13\n",
      "period=14\n",
      "period=15\n",
      "period=16\n",
      "period=17\n",
      "period=18\n",
      "period=19\n",
      "period=20\n",
      "period=21\n",
      "period=22\n",
      "period=23\n",
      "period=24\n",
      "period=25\n",
      "period=26\n",
      "period=27\n",
      "period=28\n",
      "period=29\n",
      "period=30\n",
      "period=31\n",
      "period=32\n",
      "period=33\n",
      "period=34\n",
      "period=35\n",
      "period=36\n",
      "period=37\n",
      "period=38\n",
      "period=39\n",
      "period=40\n",
      "period=41\n",
      "period=42\n",
      "period=0\n"
     ]
    },
    {
     "data": {
      "text/plain": [
       "<Figure size 432x288 with 0 Axes>"
      ]
     },
     "metadata": {},
     "output_type": "display_data"
    },
    {
     "data": {
      "image/png": "[encoded data removed]",
      "text/plain": [
       "<Figure size 432x288 with 2 Axes>"
      ]
     },
     "metadata": {
      "needs_background": "light"
     },
     "output_type": "display_data"
    }
   ],
   "source": [
    "import matplotlib.animation as animation\n",
    "from matplotlib.colors import LinearSegmentedColormap\n",
    "\n",
    "cmap = LinearSegmentedColormap.from_list(\n",
    "    'status colors',\n",
    "    [\n",
    "        [0, 0, 1], # blue\n",
    "        [0.5, 0.5, 0], # 165,42,42 brown\n",
    "        [0.5, 1, 0.5], # pink\n",
    "        [0, 0, 0]\n",
    "    ])\n",
    "\n",
    "def plot_agents(agents):\n",
    "        \n",
    "    fig = pl.figure()\n",
    "    axes = agents.plot.scatter(\n",
    "        x='x pos', \n",
    "        y='y pos', \n",
    "        c='status',\n",
    "        marker='o',\n",
    "        cmap=cmap\n",
    "    ) # colormap\n",
    "        \n",
    "    pl.xticks([])    \n",
    "    _ = pl.yticks([])    \n",
    "    pl.xlabel(\"\")\n",
    "    pl.ylabel(\"\")\n",
    "    \n",
    "    return (fig, axes)\n",
    "\n",
    "\n",
    "fig, axes = plot_agents(agents)\n",
    "# pl.set_cmap(cmap)\n",
    "scat = [child for child in axes.get_children() if type(child) is mpl.collections.PathCollection][0]\n",
    "\n",
    "# https://stackoverflow.com/questions/9401658/how-to-animate-a-scatter-plot\n",
    "def update_plot(period, agent_state, scat):\n",
    "    print(f'period={period}')\n",
    "    \n",
    "    scat.set_offsets(agent_state[period][['x pos','y pos']].to_numpy())\n",
    "    # scat.set_array(agent_state[period]['color'])\n",
    "    \n",
    "    return scat,\n",
    "    \n",
    "ani = animation.FuncAnimation(\n",
    "                              fig, \n",
    "                              update_plot, \n",
    "                              frames=range(len(agent_state)),\n",
    "                              fargs=(agent_state, scat), \n",
    "                              interval=20\n",
    ")\n",
    "\n",
    "ani.save('simulation.gif', writer=animation.PillowWriter())\n",
    "\n",
    "#         self.ani = animation.FuncAnimation(self.fig, self.update, interval=5, \n",
    "#                                           init_func=self.setup_plot, blit=True)\n",
    "#pl.show()\n"
   ]
  },
  {
   "cell_type": "code",
   "execution_count": null,
   "metadata": {},
   "outputs": [],
   "source": [
    "# def update_plot(i, data, scat):\n",
    "#     print(i)\n",
    "#     scat.set_array(data[i])\n",
    "#     return scat,\n",
    "\n",
    "# def main():\n",
    "#     numframes = 100\n",
    "#     numpoints = 10\n",
    "#     color_data = np.random.random((numframes, numpoints))\n",
    "#     x, y, c = np.random.random((3, numpoints))\n",
    "\n",
    "#     fig = pl.figure()\n",
    "#     scat = pl.scatter(x, y, c=c, s=100)\n",
    "\n",
    "#     ani = animation.FuncAnimation(fig, update_plot, frames=40,\n",
    "#                                   fargs=(color_data, scat))\n",
    "#     pl.show()\n",
    "\n",
    "\n",
    "# main()"
   ]
  },
  {
   "cell_type": "code",
   "execution_count": 79,
   "metadata": {},
   "outputs": [],
   "source": [
    "# for i in range(len(agent_state)):\n",
    "#     print(i)"
   ]
  },
  {
   "cell_type": "code",
   "execution_count": 66,
   "metadata": {},
   "outputs": [
    {
     "data": {
      "text/plain": [
       "21"
      ]
     },
     "execution_count": 66,
     "metadata": {},
     "output_type": "execute_result"
    }
   ],
   "source": [
    "len(agent_state)"
   ]
  },
  {
   "cell_type": "code",
   "execution_count": null,
   "metadata": {},
   "outputs": [],
   "source": [
    "for i in range(len(agent_state)):\n",
    "    plot_agents(agent_state[i])"
   ]
  },
  {
   "cell_type": "code",
   "execution_count": 163,
   "metadata": {},
   "outputs": [
    {
     "data": {
      "text/plain": [
       "True"
      ]
     },
     "execution_count": 163,
     "metadata": {},
     "output_type": "execute_result"
    }
   ],
   "source": [
    "#type(axes_children[0])\n",
    "type(axes_children[0]) is mpl.collections.PathCollection"
   ]
  },
  {
   "cell_type": "code",
   "execution_count": null,
   "metadata": {},
   "outputs": [],
   "source": [
    "plot_agents(agent_state)"
   ]
  }
 ],
 "metadata": {
  "kernelspec": {
   "display_name": "Python 3",
   "language": "python",
   "name": "python3"
  },
  "language_info": {
   "codemirror_mode": {
    "name": "ipython",
    "version": 3
   },
   "file_extension": ".py",
   "mimetype": "text/x-python",
   "name": "python",
   "nbconvert_exporter": "python",
   "pygments_lexer": "ipython3",
   "version": "3.7.3"
  }
 },
 "nbformat": 4,
 "nbformat_minor": 4
}
