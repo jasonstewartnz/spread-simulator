{
 "cells": [
  {
   "cell_type": "code",
   "execution_count": 1,
   "metadata": {},
   "outputs": [],
   "source": [
    "%matplotlib ipympl"
   ]
  },
  {
   "cell_type": "code",
   "execution_count": 2,
   "metadata": {},
   "outputs": [],
   "source": [
    "import requests as rq\n",
    "import csv\n",
    "import pandas as pd\n",
    "import numpy as np\n",
    "import plotly.express as px\n",
    "import os\n",
    "import plotly.graph_objects as go"
   ]
  },
  {
   "cell_type": "code",
   "execution_count": 3,
   "metadata": {},
   "outputs": [],
   "source": [
    "ny_times_timeseries_url = r'https://raw.githubusercontent.com/nytimes/covid-19-data/master/us-counties.csv'\n",
    "\n",
    "# John's Hopkins\n",
    "# https://github.com/CSSEGISandData/COVID-19/blob/master/csse_covid_19_data/csse_covid_19_daily_reports/03-31-2020.csv # regular format"
   ]
  },
  {
   "cell_type": "code",
   "execution_count": 4,
   "metadata": {},
   "outputs": [],
   "source": [
    "def read_remote_csv(url):\n",
    "    # read csv from url\n",
    "    response = rq.get(url)\n",
    "    csv_reader = csv.reader(response.text.split('\\n'), delimiter=',')\n",
    "    header = next(csv_reader)\n",
    "\n",
    "    csv_data = [row for row in csv_reader]\n",
    "    return (header, csv_data)\n",
    "\n",
    "def read_local_csv(file_path):\n",
    "    # read csv from url\n",
    "    with open(file_path,'rt') as file:\n",
    "        csv_reader = csv.reader(file, delimiter=',')\n",
    "        header = next(csv_reader)\n",
    "\n",
    "        csv_data = [row for row in csv_reader]\n",
    "        \n",
    "    return (header, csv_data)"
   ]
  },
  {
   "cell_type": "code",
   "execution_count": 5,
   "metadata": {},
   "outputs": [],
   "source": [
    "# # NY Times data\n",
    "# header, csv_data = read_remote_csv(ny_times_timeseries_url)\n",
    "# case_data = pd.DataFrame.from_records(data=csv_data,columns=header)\n",
    "# case_data['date'] = pd.to_datetime(case_data['date'])\n",
    "# case_data[['cases','deaths']] = case_data[['cases','deaths']].applymap(int)\n",
    "# case_data.head()"
   ]
  },
  {
   "cell_type": "code",
   "execution_count": null,
   "metadata": {},
   "outputs": [],
   "source": []
  },
  {
   "cell_type": "code",
   "execution_count": 6,
   "metadata": {},
   "outputs": [],
   "source": [
    "# case_data.pivot_table(index='date', columns='state', values='cases', aggfunc=sum).plot.line(figsize=(15,15))\n"
   ]
  },
  {
   "cell_type": "code",
   "execution_count": 7,
   "metadata": {},
   "outputs": [],
   "source": [
    "# cloned from https://github.com/CSSEGISandData/COVID-19\n",
    "\n",
    "jh_path = r'../COVID-19/csse_covid_19_data/csse_covid_19_daily_reports/03-31-2020.csv'"
   ]
  },
  {
   "cell_type": "code",
   "execution_count": 8,
   "metadata": {},
   "outputs": [],
   "source": [
    "header, csv_data = read_local_csv(jh_path)"
   ]
  },
  {
   "cell_type": "code",
   "execution_count": 9,
   "metadata": {},
   "outputs": [
    {
     "data": {
      "text/plain": [
       "['FIPS',\n",
       " 'Admin2',\n",
       " 'Province_State',\n",
       " 'Country_Region',\n",
       " 'Last_Update',\n",
       " 'Lat',\n",
       " 'Long_',\n",
       " 'Confirmed',\n",
       " 'Deaths',\n",
       " 'Recovered',\n",
       " 'Active',\n",
       " 'Combined_Key']"
      ]
     },
     "execution_count": 9,
     "metadata": {},
     "output_type": "execute_result"
    }
   ],
   "source": [
    "header"
   ]
  },
  {
   "cell_type": "code",
   "execution_count": 10,
   "metadata": {},
   "outputs": [],
   "source": [
    "jh_data = pd.DataFrame.from_records(csv_data, columns=header)"
   ]
  },
  {
   "cell_type": "code",
   "execution_count": 11,
   "metadata": {},
   "outputs": [],
   "source": [
    "jh_data[['Lat','Long_','Confirmed','Deaths','Recovered','Active']] = jh_data[['Lat','Long_','Confirmed','Deaths','Recovered','Active']].applymap(lambda x: float(x) if x != \"\" else np.nan)"
   ]
  },
  {
   "cell_type": "code",
   "execution_count": 12,
   "metadata": {},
   "outputs": [],
   "source": [
    "us_data = jh_data.loc[jh_data['Country_Region']=='US',:]"
   ]
  },
  {
   "cell_type": "code",
   "execution_count": 13,
   "metadata": {},
   "outputs": [
    {
     "data": {
      "text/html": [
       "<div>\n",
       "<style scoped>\n",
       "    .dataframe tbody tr th:only-of-type {\n",
       "        vertical-align: middle;\n",
       "    }\n",
       "\n",
       "    .dataframe tbody tr th {\n",
       "        vertical-align: top;\n",
       "    }\n",
       "\n",
       "    .dataframe thead th {\n",
       "        text-align: right;\n",
       "    }\n",
       "</style>\n",
       "<table border=\"1\" class=\"dataframe\">\n",
       "  <thead>\n",
       "    <tr style=\"text-align: right;\">\n",
       "      <th></th>\n",
       "      <th>FIPS</th>\n",
       "      <th>Admin2</th>\n",
       "      <th>Province_State</th>\n",
       "      <th>Country_Region</th>\n",
       "      <th>Last_Update</th>\n",
       "      <th>Lat</th>\n",
       "      <th>Long_</th>\n",
       "      <th>Confirmed</th>\n",
       "      <th>Deaths</th>\n",
       "      <th>Recovered</th>\n",
       "      <th>Active</th>\n",
       "      <th>Combined_Key</th>\n",
       "    </tr>\n",
       "  </thead>\n",
       "  <tbody>\n",
       "    <tr>\n",
       "      <th>0</th>\n",
       "      <td>45001</td>\n",
       "      <td>Abbeville</td>\n",
       "      <td>South Carolina</td>\n",
       "      <td>US</td>\n",
       "      <td>2020-03-31 23:43:56</td>\n",
       "      <td>34.223334</td>\n",
       "      <td>-82.461707</td>\n",
       "      <td>4.0</td>\n",
       "      <td>0.0</td>\n",
       "      <td>0.0</td>\n",
       "      <td>0.0</td>\n",
       "      <td>Abbeville, South Carolina, US</td>\n",
       "    </tr>\n",
       "    <tr>\n",
       "      <th>1</th>\n",
       "      <td>22001</td>\n",
       "      <td>Acadia</td>\n",
       "      <td>Louisiana</td>\n",
       "      <td>US</td>\n",
       "      <td>2020-03-31 23:43:56</td>\n",
       "      <td>30.295065</td>\n",
       "      <td>-92.414197</td>\n",
       "      <td>39.0</td>\n",
       "      <td>1.0</td>\n",
       "      <td>0.0</td>\n",
       "      <td>0.0</td>\n",
       "      <td>Acadia, Louisiana, US</td>\n",
       "    </tr>\n",
       "    <tr>\n",
       "      <th>2</th>\n",
       "      <td>51001</td>\n",
       "      <td>Accomack</td>\n",
       "      <td>Virginia</td>\n",
       "      <td>US</td>\n",
       "      <td>2020-03-31 23:43:56</td>\n",
       "      <td>37.767072</td>\n",
       "      <td>-75.632346</td>\n",
       "      <td>7.0</td>\n",
       "      <td>0.0</td>\n",
       "      <td>0.0</td>\n",
       "      <td>0.0</td>\n",
       "      <td>Accomack, Virginia, US</td>\n",
       "    </tr>\n",
       "    <tr>\n",
       "      <th>3</th>\n",
       "      <td>16001</td>\n",
       "      <td>Ada</td>\n",
       "      <td>Idaho</td>\n",
       "      <td>US</td>\n",
       "      <td>2020-03-31 23:43:56</td>\n",
       "      <td>43.452658</td>\n",
       "      <td>-116.241552</td>\n",
       "      <td>195.0</td>\n",
       "      <td>3.0</td>\n",
       "      <td>0.0</td>\n",
       "      <td>0.0</td>\n",
       "      <td>Ada, Idaho, US</td>\n",
       "    </tr>\n",
       "    <tr>\n",
       "      <th>4</th>\n",
       "      <td>19001</td>\n",
       "      <td>Adair</td>\n",
       "      <td>Iowa</td>\n",
       "      <td>US</td>\n",
       "      <td>2020-03-31 23:43:56</td>\n",
       "      <td>41.330756</td>\n",
       "      <td>-94.471059</td>\n",
       "      <td>1.0</td>\n",
       "      <td>0.0</td>\n",
       "      <td>0.0</td>\n",
       "      <td>0.0</td>\n",
       "      <td>Adair, Iowa, US</td>\n",
       "    </tr>\n",
       "  </tbody>\n",
       "</table>\n",
       "</div>"
      ],
      "text/plain": [
       "    FIPS     Admin2  Province_State Country_Region          Last_Update  \\\n",
       "0  45001  Abbeville  South Carolina             US  2020-03-31 23:43:56   \n",
       "1  22001     Acadia       Louisiana             US  2020-03-31 23:43:56   \n",
       "2  51001   Accomack        Virginia             US  2020-03-31 23:43:56   \n",
       "3  16001        Ada           Idaho             US  2020-03-31 23:43:56   \n",
       "4  19001      Adair            Iowa             US  2020-03-31 23:43:56   \n",
       "\n",
       "         Lat       Long_  Confirmed  Deaths  Recovered  Active  \\\n",
       "0  34.223334  -82.461707        4.0     0.0        0.0     0.0   \n",
       "1  30.295065  -92.414197       39.0     1.0        0.0     0.0   \n",
       "2  37.767072  -75.632346        7.0     0.0        0.0     0.0   \n",
       "3  43.452658 -116.241552      195.0     3.0        0.0     0.0   \n",
       "4  41.330756  -94.471059        1.0     0.0        0.0     0.0   \n",
       "\n",
       "                    Combined_Key  \n",
       "0  Abbeville, South Carolina, US  \n",
       "1          Acadia, Louisiana, US  \n",
       "2         Accomack, Virginia, US  \n",
       "3                 Ada, Idaho, US  \n",
       "4                Adair, Iowa, US  "
      ]
     },
     "execution_count": 13,
     "metadata": {},
     "output_type": "execute_result"
    }
   ],
   "source": [
    "us_data.head()"
   ]
  },
  {
   "cell_type": "code",
   "execution_count": 21,
   "metadata": {},
   "outputs": [
    {
     "name": "stdout",
     "output_type": "stream",
     "text": [
      "<class 'str'>\n"
     ]
    }
   ],
   "source": [
    "# Extract token\n",
    "mapbox_token = os.getenv(\"MAPBOX_API_KEY\")\n",
    "print(type(mapbox_token))\n",
    "\n",
    "# Set token using Plotly Express set function\n",
    "px.set_mapbox_access_token(mapbox_token)\n",
    "\n",
    "us_scatter_map_box = px.scatter_mapbox(\n",
    "    us_data,\n",
    "    lat=\"Lat\",\n",
    "    lon=\"Long_\",\n",
    "    size=\"Confirmed\",\n",
    "    color=\"Deaths\",\n",
    "    hover_name='Admin2',\n",
    "\n",
    ")\n",
    "\n",
    "fig = go.Figure(us_scatter_map_box\n",
    ")\n",
    "\n",
    "fig.update_layout(\n",
    "    mapbox=dict(\n",
    "        accesstoken=mapbox_token,\n",
    "        bearing=0,\n",
    "        center=go.layout.mapbox.Center(\n",
    "            lat=40,\n",
    "            lon=-99\n",
    "        ),\n",
    "        pitch=0,\n",
    "        zoom=3\n",
    "    )\n",
    ")\n",
    "\n",
    "fig.write_image('maps/us_cases.png')\n"
   ]
  },
  {
   "cell_type": "markdown",
   "metadata": {},
   "source": [
    "![nz cases](maps/us_cases.png)"
   ]
  },
  {
   "cell_type": "code",
   "execution_count": 15,
   "metadata": {},
   "outputs": [
    {
     "data": {
      "text/html": [
       "<div>\n",
       "<style scoped>\n",
       "    .dataframe tbody tr th:only-of-type {\n",
       "        vertical-align: middle;\n",
       "    }\n",
       "\n",
       "    .dataframe tbody tr th {\n",
       "        vertical-align: top;\n",
       "    }\n",
       "\n",
       "    .dataframe thead th {\n",
       "        text-align: right;\n",
       "    }\n",
       "</style>\n",
       "<table border=\"1\" class=\"dataframe\">\n",
       "  <thead>\n",
       "    <tr style=\"text-align: right;\">\n",
       "      <th></th>\n",
       "      <th>FIPS</th>\n",
       "      <th>Admin2</th>\n",
       "      <th>Province_State</th>\n",
       "      <th>Country_Region</th>\n",
       "      <th>Last_Update</th>\n",
       "      <th>Lat</th>\n",
       "      <th>Long_</th>\n",
       "      <th>Confirmed</th>\n",
       "      <th>Deaths</th>\n",
       "      <th>Recovered</th>\n",
       "      <th>Active</th>\n",
       "      <th>Combined_Key</th>\n",
       "    </tr>\n",
       "  </thead>\n",
       "  <tbody>\n",
       "    <tr>\n",
       "      <th>2375</th>\n",
       "      <td></td>\n",
       "      <td></td>\n",
       "      <td></td>\n",
       "      <td>New Zealand</td>\n",
       "      <td>2020-03-31 23:43:43</td>\n",
       "      <td>-40.9006</td>\n",
       "      <td>174.886</td>\n",
       "      <td>647.0</td>\n",
       "      <td>1.0</td>\n",
       "      <td>74.0</td>\n",
       "      <td>572.0</td>\n",
       "      <td>New Zealand</td>\n",
       "    </tr>\n",
       "  </tbody>\n",
       "</table>\n",
       "</div>"
      ],
      "text/plain": [
       "     FIPS Admin2 Province_State Country_Region          Last_Update      Lat  \\\n",
       "2375                               New Zealand  2020-03-31 23:43:43 -40.9006   \n",
       "\n",
       "        Long_  Confirmed  Deaths  Recovered  Active Combined_Key  \n",
       "2375  174.886      647.0     1.0       74.0   572.0  New Zealand  "
      ]
     },
     "execution_count": 15,
     "metadata": {},
     "output_type": "execute_result"
    }
   ],
   "source": [
    "nz_data = jh_data.loc[jh_data['Country_Region']=='New Zealand',:]\n",
    "nz_data.head()"
   ]
  },
  {
   "cell_type": "code",
   "execution_count": 16,
   "metadata": {},
   "outputs": [],
   "source": [
    "nz_scatter_map_box = px.scatter_mapbox(\n",
    "    nz_data,\n",
    "    lat=\"Lat\",\n",
    "    lon=\"Long_\",\n",
    "    size=\"Confirmed\",\n",
    "    color=\"Deaths\",\n",
    "    hover_name='Admin2',\n",
    ")\n",
    "\n",
    "\n",
    "fig = go.Figure(nz_scatter_map_box\n",
    ")\n",
    "\n",
    "fig.update_layout(\n",
    "    mapbox=dict(\n",
    "        accesstoken=mapbox_token,\n",
    "        bearing=0,\n",
    "        center=go.layout.mapbox.Center(\n",
    "            lat=-41,\n",
    "            lon=174\n",
    "        ),\n",
    "        pitch=0,\n",
    "        zoom=4.2\n",
    "    )\n",
    ")\n",
    "\n",
    "\n",
    "fig.write_image('maps/nz_cases.png')"
   ]
  },
  {
   "cell_type": "markdown",
   "metadata": {},
   "source": [
    "![nz cases](maps/nz_cases.png)"
   ]
  },
  {
   "cell_type": "code",
   "execution_count": null,
   "metadata": {},
   "outputs": [],
   "source": []
  }
 ],
 "metadata": {
  "kernelspec": {
   "display_name": "Python 3",
   "language": "python",
   "name": "python3"
  },
  "language_info": {
   "codemirror_mode": {
    "name": "ipython",
    "version": 3
   },
   "file_extension": ".py",
   "mimetype": "text/x-python",
   "name": "python",
   "nbconvert_exporter": "python",
   "pygments_lexer": "ipython3",
   "version": "3.7.3"
  }
 },
 "nbformat": 4,
 "nbformat_minor": 4
}
